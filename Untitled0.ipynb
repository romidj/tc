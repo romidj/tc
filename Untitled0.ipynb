{
  "nbformat": 4,
  "nbformat_minor": 0,
  "metadata": {
    "colab": {
      "provenance": [],
      "authorship_tag": "ABX9TyNiLU56iQBq680sSsp5CJF8",
      "include_colab_link": true
    },
    "kernelspec": {
      "name": "python3",
      "display_name": "Python 3"
    },
    "language_info": {
      "name": "python"
    }
  },
  "cells": [
    {
      "cell_type": "markdown",
      "metadata": {
        "id": "view-in-github",
        "colab_type": "text"
      },
      "source": [
        "<a href=\"https://colab.research.google.com/github/romidj/tc/blob/main/Untitled0.ipynb\" target=\"_parent\"><img src=\"https://colab.research.google.com/assets/colab-badge.svg\" alt=\"Open In Colab\"/></a>"
      ]
    },
    {
      "cell_type": "markdown",
      "source": [],
      "metadata": {
        "id": "2QLR5AFFYaEo"
      }
    },
    {
      "cell_type": "code",
      "execution_count": null,
      "metadata": {
        "id": "IfipKQr_gdNd"
      },
      "outputs": [],
      "source": [
        "import requests"
      ]
    },
    {
      "cell_type": "code",
      "source": [
        "from bs4 import BeautifulSoup"
      ],
      "metadata": {
        "id": "0va3yTIJjGQU"
      },
      "execution_count": null,
      "outputs": []
    },
    {
      "cell_type": "code",
      "source": [
        "import pandas as pd"
      ],
      "metadata": {
        "id": "HWiStLcTNgIu"
      },
      "execution_count": null,
      "outputs": []
    },
    {
      "cell_type": "code",
      "source": [
        "avocats = []\n",
        "\n",
        "for i in range (1,45):\n",
        "  url = f\"https://avocatalgerien.com/listings/category/code-bancaire/page/{i}/\"\n",
        "  response = requests.get(url)\n",
        "  response = response.content\n",
        "  soup = BeautifulSoup( response,'html.parser')\n",
        "  liste = soup.find('div',class_='list')\n",
        "  article = liste.find_all('article')\n",
        "\n",
        "  for art in article:\n",
        "     image = art.find('img')\n",
        "     image = image.attrs['src']\n",
        "     nom_prenom = art.find('h2',class_='entry-title')\n",
        "     nom_prenom = nom_prenom.text.strip()\n",
        "     stars = art.find('div',class_='stars-cont')\n",
        "     stars_div = stars.find('div', class_='stars')\n",
        "     etoile = stars_div['class'][1]\n",
        "     competences = art.find('p',class_='listing-cat')\n",
        "     competences = competences.text.strip()[12:]\n",
        "     phone = art.find('p',class_='listing-phone')\n",
        "     phone = phone.text.strip()[5:]\n",
        "     adr = art.find('p',class_='listing-address')\n",
        "     adr = adr.text.strip()\n",
        "     description = art.find('p',class_='listing-description')\n",
        "     description = description.text.strip()[15:]\n",
        "     avocats.append([image , nom_prenom ,etoile ,competences , phone, adr , description])\n",
        "\n",
        "\n"
      ],
      "metadata": {
        "id": "_RfowKDKpUI_"
      },
      "execution_count": null,
      "outputs": []
    },
    {
      "cell_type": "code",
      "source": [
        "df = pd.DataFrame(avocats , columns=[image , nom_prenom ,etoile ,competences , phone, adr , description])"
      ],
      "metadata": {
        "id": "8w_XHUmrNvUD"
      },
      "execution_count": null,
      "outputs": []
    },
    {
      "cell_type": "code",
      "source": [
        "df.to_csv('avocats.csv')"
      ],
      "metadata": {
        "id": "KmXqkzC4OJTo"
      },
      "execution_count": null,
      "outputs": []
    }
  ]
}